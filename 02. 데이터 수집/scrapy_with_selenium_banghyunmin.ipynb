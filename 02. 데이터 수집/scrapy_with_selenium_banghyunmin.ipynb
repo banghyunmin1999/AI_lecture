{
 "cells": [
  {
   "cell_type": "markdown",
   "metadata": {
    "id": "YJ0-FiDVT1GX"
   },
   "source": [
    "# 5. 셀레니움 활용 웹브라우저 자동화"
   ]
  },
  {
   "cell_type": "code",
   "execution_count": null,
   "metadata": {
    "collapsed": true,
    "id": "MEm5gpyB1L86"
   },
   "outputs": [],
   "source": [
    "# !pip install -U PyMySQL==1.1.1\n",
    "# !pip install -U numpy==2.0.2\n",
    "# !pip install -U pandas==2.2.2\n",
    "# !pip install -U requests==2.32.3\n",
    "# !pip install -U selenium==4.31.0\n",
    "# !pip install -U sqlalchemy==2.0.40\n",
    "# !pip install -U webdriver_manager==4.0.2\n",
    "# !pip install -U bs4==0.0.2"
   ]
  },
  {
   "cell_type": "code",
   "execution_count": null,
   "metadata": {
    "colab": {
     "base_uri": "https://localhost:8080/"
    },
    "collapsed": true,
    "executionInfo": {
     "elapsed": 58329,
     "status": "ok",
     "timestamp": 1744776973375,
     "user": {
      "displayName": "방현민",
      "userId": "13982830011180183820"
     },
     "user_tz": -540
    },
    "id": "8jOl2k3ZV2o3",
    "outputId": "840ab558-8423-400a-e66d-7bac3cc6ff47"
   },
   "outputs": [],
   "source": [
    "# # 2. Chrome 브라우저 설치\n",
    "# !apt-get update  # 패키지 목록 업데이트\n",
    "# !apt-get install -y wget unzip  # wget과 unzip 패키지 설치\n",
    "# !wget -q -O - https://dl-ssl.google.com/linux/linux_signing_key.pub | apt-key add -  # Google의 리눅스 서명 키 추가\n",
    "# !sh -c 'echo \"deb [arch=amd64] https://dl.google.com/linux/chrome/deb/ stable main\" >> /etc/apt/sources.list.d/google-chrome.list'  # Chrome 브라우저를 다운로드할 수 있도록 저장소 추가\n",
    "# !apt-get update  # 패키지 목록 다시 업데이트\n",
    "# !apt-get install -y google-chrome-stable  # 최신 안정 버전의 Chrome 브라우저 설치\n",
    "# !apt-get install -y fonts-nanum # 한글폰트 설치"
   ]
  },
  {
   "cell_type": "code",
   "execution_count": 5,
   "metadata": {
    "executionInfo": {
     "elapsed": 3,
     "status": "ok",
     "timestamp": 1744776973376,
     "user": {
      "displayName": "방현민",
      "userId": "13982830011180183820"
     },
     "user_tz": -540
    },
    "id": "cVy5BzWRwmBN"
   },
   "outputs": [],
   "source": [
    "# pip freeze >> requirements.txt"
   ]
  },
  {
   "cell_type": "markdown",
   "metadata": {
    "id": "1NLuiNbFxj4i"
   },
   "source": [
    "### 라이브러리 선언"
   ]
  },
  {
   "cell_type": "code",
   "execution_count": 6,
   "metadata": {
    "executionInfo": {
     "elapsed": 3813,
     "status": "ok",
     "timestamp": 1744776977191,
     "user": {
      "displayName": "방현민",
      "userId": "13982830011180183820"
     },
     "user_tz": -540
    },
    "id": "Ds_lv40VtjIa"
   },
   "outputs": [],
   "source": [
    "import pandas as pd\n",
    "from datetime import datetime\n",
    "from sqlalchemy import create_engine, inspect\n",
    "# Selenium과 webdriver-manager를 사용한 Chrome 브라우저 실행 코드\n",
    "from selenium import webdriver\n",
    "from selenium.webdriver.chrome.service import Service\n",
    "from webdriver_manager.chrome import ChromeDriverManager\n",
    "from selenium.webdriver.common.by import By\n",
    "from selenium.webdriver.common.keys import Keys\n",
    "import bs4"
   ]
  },
  {
   "cell_type": "markdown",
   "metadata": {
    "id": "xQNile_oxmvm"
   },
   "source": [
    "### 크롬브라우저 옵션 설정"
   ]
  },
  {
   "cell_type": "code",
   "execution_count": 7,
   "metadata": {
    "executionInfo": {
     "elapsed": 4581,
     "status": "ok",
     "timestamp": 1744776981774,
     "user": {
      "displayName": "방현민",
      "userId": "13982830011180183820"
     },
     "user_tz": -540
    },
    "id": "BMVioTUxiKfl"
   },
   "outputs": [],
   "source": [
    "# WebDriver 설치 및 브라우저 실행 설정\n",
    "options = webdriver.ChromeOptions()\n",
    "options.add_argument(\"--headless\")  # ★★★헤드리스 모드로 실행 (브라우저 창을 표시하지 않음)\n",
    "options.add_argument(\"window-size=1920x1080\") # 헤드리스 모드로 실행 (명시적으로 표기)\n",
    "options.add_argument(\"--no-sandbox\")  # 샌드박스 모드 비활성화 (가상 환경에서 안정적인 실행을 위해)\n",
    "options.add_argument(\"--disable-dev-shm-usage\")  # /dev/shm 사용 비활성화 (메모리 부족 방지)\n",
    "options.add_argument(\"--disable-gpu\")  # GPU 가속 비활성화 (필요시 사용)\n",
    "options.add_argument(\"start-maximized\")  # 브라우저 창 최대화\n",
    "options.add_argument(\"disable-infobars\")  # 정보 표시줄 비활성화\n",
    "options.add_argument(\"--disable-extensions\")  # 브라우저 확장 프로그램 비활성화\n",
    "options.add_argument('--ignore-certificate-errors') # 통신 키 제거\n",
    "\n",
    "# user-agent 값 설정\n",
    "user_agent = \"Mozilla/5.0 (Windows NT 10.0; Win64; x64) AppleWebKit/537.36 (KHTML, like Gecko) Chrome/114.0.0.0 Safari/537.36\"\n",
    "options.add_argument(f\"user-agent={user_agent}\")\n",
    "\n",
    "# WebDriver로 Chrome 브라우저 실행\n",
    "driver = webdriver.Chrome(service=Service(ChromeDriverManager().install()), options=options)\n",
    "# 웹페이지 파싱 될때까지 최대 3초 기다림\n",
    "driver.implicitly_wait(3)"
   ]
  },
  {
   "cell_type": "markdown",
   "metadata": {
    "id": "Fu3Y_11xT1Gc"
   },
   "source": [
    "### 1. 스파크 퀴즈 정보 수집"
   ]
  },
  {
   "cell_type": "code",
   "execution_count": null,
   "metadata": {
    "colab": {
     "base_uri": "https://localhost:8080/"
    },
    "executionInfo": {
     "elapsed": 6061,
     "status": "ok",
     "timestamp": 1744776987837,
     "user": {
      "displayName": "방현민",
      "userId": "13982830011180183820"
     },
     "user_tz": -540
    },
    "id": "UEEyeFr8YbZq",
    "outputId": "ea67ee03-2f8f-458b-cadb-c5a7cec875e2"
   },
   "outputs": [],
   "source": [
    "try:\n",
    "    targetUrl = \"https://sparkkorea.com/\"\n",
    "    driver.get( targetUrl )\n",
    "    driver.current_url\n",
    "    driver.save_screenshot(\"./here.jpg\")\n",
    "    ### 1. 원하는 액션대상 요소 탐색\n",
    "    quizXpath = '//*[@id=\"menu-item-382\"]/a'\n",
    "    quizMenuEle = driver.find_element(By.XPATH, quizXpath)\n",
    "    ### 2. 액션대상 요소 클릭\n",
    "    quizMenuEle.click()\n",
    "\n",
    "    ### 3. 페이지 소스 불러오기\n",
    "    htmlObj = driver.page_source\n",
    "    bsObj = bs4.BeautifulSoup(htmlObj, \"html.parser\")\n",
    "\n",
    "    ### 4. 퀴즈정보 수집\n",
    "    sparkQuizDiv = bsObj.find(name = \"div\", attrs={\"class\":\"class_spark_quiz\"})\n",
    "    aLinks = sparkQuizDiv.find_all(name=\"a\")\n",
    "    linkList = []\n",
    "    nameList = []\n",
    "    for i in range(0, len(aLinks)):\n",
    "        eachAtag = aLinks[i]\n",
    "        nameList.append( eachAtag.text )\n",
    "        linkList.append( eachAtag.attrs[\"href\"] )\n",
    "    quizDf = pd.DataFrame( zip (nameList, linkList), columns = [\"링크명\",\"링크주소\"] )\n",
    "    quizDf\n",
    "except Exception as e:\n",
    "    print(e)"
   ]
  },
  {
   "cell_type": "markdown",
   "metadata": {
    "id": "FBrqNU7WufgO"
   },
   "source": [
    "### 2. 데이터베이스 저장"
   ]
  },
  {
   "cell_type": "code",
   "execution_count": 9,
   "metadata": {
    "executionInfo": {
     "elapsed": 28,
     "status": "ok",
     "timestamp": 1744776987864,
     "user": {
      "displayName": "방현민",
      "userId": "13982830011180183820"
     },
     "user_tz": -540
    },
    "id": "bklpNJ9RumpZ"
   },
   "outputs": [],
   "source": [
    "now = datetime.now()\n",
    "time_key = now.strftime(\"%Y_%m_%d_%H_%M_%S\")\n",
    "quizDf[\"TIME_KEY\"] = time_key"
   ]
  },
  {
   "cell_type": "code",
   "execution_count": 10,
   "metadata": {
    "executionInfo": {
     "elapsed": 7,
     "status": "ok",
     "timestamp": 1744776987869,
     "user": {
      "displayName": "방현민",
      "userId": "13982830011180183820"
     },
     "user_tz": -540
    },
    "id": "L7vGmdo9va7k"
   },
   "outputs": [],
   "source": [
    "quizDf.columns = [\"LINK_NAME\",\"LINK_ADDR\",\"TIME_KEY\"]"
   ]
  },
  {
   "cell_type": "code",
   "execution_count": 11,
   "metadata": {
    "executionInfo": {
     "elapsed": 264,
     "status": "ok",
     "timestamp": 1744776988135,
     "user": {
      "displayName": "방현민",
      "userId": "13982830011180183820"
     },
     "user_tz": -540
    },
    "id": "THjCplJ3v4vo"
   },
   "outputs": [],
   "source": [
    "# MySQL 데이터베이스 연결 정보 설정 (ngrok)\n",
    "### 5. DB에 저장하기\n",
    "### - IP: my8003.gabiadb.com\n",
    "### - 포트: 3306\n",
    "### - DB명: hkcodedb\n",
    "### - 계정: hkcode / fintech1308!\n",
    "user = 'hkcode'\n",
    "password = 'fintech1308!'\n",
    "host = 'my8003.gabiadb.com'\n",
    "port = '3306'\n",
    "database = 'hkcodedb'\n",
    "\n",
    "# SQLAlchemy 엔진 생성\n",
    "engineMy = create_engine(f'mysql+pymysql://{user}:{password}@{host}:{port}/{database}')\n",
    "# 데이터프레임을 MySQL 데이터베이스의 테이블에 저장\n",
    "# indata.to_sql(name=\"ngrok_test\", con=engineMy, if_exists='replace', index=False)"
   ]
  },
  {
   "cell_type": "code",
   "execution_count": 12,
   "metadata": {
    "colab": {
     "base_uri": "https://localhost:8080/"
    },
    "executionInfo": {
     "elapsed": 3263,
     "status": "ok",
     "timestamp": 1744776991396,
     "user": {
      "displayName": "방현민",
      "userId": "13982830011180183820"
     },
     "user_tz": -540
    },
    "id": "SwSQWTZBxOaX",
    "outputId": "76230b51-5eb8-4712-c8b5-bf1aaf921765"
   },
   "outputs": [
    {
     "name": "stdout",
     "output_type": "stream",
     "text": [
      "DB이관 완료\n"
     ]
    }
   ],
   "source": [
    "try:\n",
    "    tableName = \"service_hkcode_0407\"\n",
    "    quizDf.to_sql(name= tableName,index=False, if_exists=\"append\", con=engineMy)\n",
    "    print(\"DB이관 완료\")\n",
    "except Exception as e:\n",
    "    print(e)"
   ]
  },
  {
   "cell_type": "code",
   "execution_count": 26,
   "metadata": {
    "colab": {
     "base_uri": "https://localhost:8080/"
    },
    "executionInfo": {
     "elapsed": 52,
     "status": "ok",
     "timestamp": 1744779529722,
     "user": {
      "displayName": "방현민",
      "userId": "13982830011180183820"
     },
     "user_tz": -540
    },
    "id": "8foEEeOFd8ac",
    "outputId": "0e81fcdf-d637-490d-d660-a841bc51c781"
   },
   "outputs": [
    {
     "name": "stdout",
     "output_type": "stream",
     "text": [
      "requirements.txt 생성 완료\n"
     ]
    }
   ],
   "source": [
    "import sys, pkg_resources\n",
    "\n",
    "# 현재 메모리에 로드된 모듈 이름 목록을 리스트로 저장\n",
    "# sys.modules는 실행 중에 동적으로 import된 모듈까지 포함\n",
    "# 예: pandas 하나만 import했더라도 내부적으로 numpy, dateutil 등 여러 모듈을 import해서 메모리 올림\n",
    "mods = list(sys.modules)\n",
    "\n",
    "# import된 패키지들의 (이름, 버전) 튜플을 저장할 리스트\n",
    "pkgs = []\n",
    "\n",
    "# 설치된 모든 패키지 정보 가져오기\n",
    "dists = list(pkg_resources.working_set)\n",
    "\n",
    "# 설치된 패키지 중 현재 import된 것만 골라서 pkgs에 추가\n",
    "for i in range(0, len(dists)):\n",
    "    name = dists[i].project_name\n",
    "    key = dists[i].key\n",
    "    if name in mods or key in mods:\n",
    "        pkgs.append((name, dists[i].version))\n",
    "\n",
    "# requirements.txt 파일로 저장\n",
    "with open('requirements.txt', 'w') as f:\n",
    "    for i in range(0, len(pkgs)):\n",
    "        f.write(f\"{pkgs[i][0]}=={pkgs[i][1]}\\n\")\n",
    "\n",
    "print(\"requirements.txt 생성 완료\")"
   ]
  },
  {
   "cell_type": "code",
   "execution_count": null,
   "metadata": {
    "id": "huZUNpjJ7-KM"
   },
   "outputs": [],
   "source": []
  }
 ],
 "metadata": {
  "colab": {
   "provenance": [
    {
     "file_id": "1tOoqCucU93kdK6-C7rcSuU8CsK2sGgWK",
     "timestamp": 1743762385149
    }
   ]
  },
  "kernelspec": {
   "display_name": "Python 3 (ipykernel)",
   "language": "python",
   "name": "python3"
  },
  "language_info": {
   "codemirror_mode": {
    "name": "ipython",
    "version": 3
   },
   "file_extension": ".py",
   "mimetype": "text/x-python",
   "name": "python",
   "nbconvert_exporter": "python",
   "pygments_lexer": "ipython3",
   "version": "3.11.9"
  }
 },
 "nbformat": 4,
 "nbformat_minor": 0
}
