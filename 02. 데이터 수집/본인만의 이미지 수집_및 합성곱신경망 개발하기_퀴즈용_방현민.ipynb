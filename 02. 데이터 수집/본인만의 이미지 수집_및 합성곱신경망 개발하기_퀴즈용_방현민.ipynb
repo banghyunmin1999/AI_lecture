{
 "cells": [
  {
   "cell_type": "markdown",
   "metadata": {
    "id": "h6xJM74viD1t"
   },
   "source": [
    "# 1. 이미지 수집"
   ]
  },
  {
   "cell_type": "code",
   "execution_count": null,
   "metadata": {
    "colab": {
     "base_uri": "https://localhost:8080/"
    },
    "collapsed": true,
    "executionInfo": {
     "elapsed": 6740,
     "status": "ok",
     "timestamp": 1744040351672,
     "user": {
      "displayName": "방현민",
      "userId": "13982830011180183820"
     },
     "user_tz": -540
    },
    "id": "V9NVM8aFlYeq",
    "outputId": "a9922770-4143-4da1-f014-e5406081e112"
   },
   "outputs": [],
   "source": [
    "!pip install bing-image-downloader==1.1.2"
   ]
  },
  {
   "cell_type": "code",
   "execution_count": 2,
   "metadata": {
    "executionInfo": {
     "elapsed": 37,
     "status": "ok",
     "timestamp": 1744040351712,
     "user": {
      "displayName": "방현민",
      "userId": "13982830011180183820"
     },
     "user_tz": -540
    },
    "id": "YrMUQreViFhA"
   },
   "outputs": [],
   "source": [
    "from datetime import datetime\n",
    "import os\n",
    "import shutil\n",
    "import random\n",
    "import bing_image_downloader\n",
    "from bing_image_downloader import downloader"
   ]
  },
  {
   "cell_type": "code",
   "execution_count": null,
   "metadata": {
    "colab": {
     "base_uri": "https://localhost:8080/"
    },
    "collapsed": true,
    "executionInfo": {
     "elapsed": 12822,
     "status": "ok",
     "timestamp": 1744040364540,
     "user": {
      "displayName": "방현민",
      "userId": "13982830011180183820"
     },
     "user_tz": -540
    },
    "id": "J6NbCjQ4iMR6",
    "outputId": "a9dd0e6a-405b-4c59-95a2-fa86381c9630"
   },
   "outputs": [],
   "source": [
    "#교수님 코드 부분\n",
    "currentDate = datetime.now()\n",
    "dateKey = currentDate.strftime(\"%Y%m%d\")\n",
    "directory_path = f\"/content/downimg_{dateKey}\"\n",
    "query = \"화난 표정\"\n",
    "imageCnt = 30\n",
    "timeoutStd = 10\n",
    "# limit에 원하는 이미지 개수를 입력\n",
    "downloader.download(query,\n",
    "                    limit=imageCnt,\n",
    "                    output_dir=directory_path,\n",
    "                    adult_filter_off=True,\n",
    "                    force_replace=False,\n",
    "                    timeout=timeoutStd)\n",
    "query = \"행복한 표정\"\n",
    "imageCnt = 30\n",
    "timeoutStd = 10\n",
    "# limit에 원하는 이미지 개수를 입력\n",
    "downloader.download(query,\n",
    "                    limit=imageCnt,\n",
    "                    output_dir=directory_path,\n",
    "                    adult_filter_off=True,\n",
    "                    force_replace=False,\n",
    "                    timeout=timeoutStd)"
   ]
  },
  {
   "cell_type": "markdown",
   "metadata": {
    "id": "bdBJRmE5iFZK"
   },
   "source": [
    "# 2. 이미지 불러오기"
   ]
  },
  {
   "cell_type": "code",
   "execution_count": 4,
   "metadata": {
    "executionInfo": {
     "elapsed": 83,
     "status": "ok",
     "timestamp": 1744040364626,
     "user": {
      "displayName": "방현민",
      "userId": "13982830011180183820"
     },
     "user_tz": -540
    },
    "id": "gSOrM7LigmDz"
   },
   "outputs": [],
   "source": [
    "import numpy as np\n",
    "import os\n",
    "import cv2"
   ]
  },
  {
   "cell_type": "code",
   "execution_count": 5,
   "metadata": {
    "collapsed": true,
    "executionInfo": {
     "elapsed": 8,
     "status": "ok",
     "timestamp": 1744040364637,
     "user": {
      "displayName": "방현민",
      "userId": "13982830011180183820"
     },
     "user_tz": -540
    },
    "id": "iQ4ir_1NjmTS"
   },
   "outputs": [],
   "source": [
    "\n",
    "def Img ():\n",
    "    \"\"\"\n",
    "        문제 이미지를 모두 불러와서\n",
    "        불러온 이미지는 trainImgList 에 저장\n",
    "        이미지의 정답지 폴더명은 (예: \"행복한_표정\") 은 trainLabelList에 저장\n",
    "    \"\"\"\n",
    "    trainImgList = []#불러온 이미지\n",
    "    trainLabelList = []#이미지의 정답지\n",
    "    for j in range(0,2): #행복, 화남\n",
    "        try:\n",
    "            categoryPath = os.listdir(directory_path)[j] # 0 : 행복 , 1 : 화남\n",
    "            catPath = os.path.join( directory_path, categoryPath )\n",
    "            for i in range(0,30): # 각 30개의 파일 갯수\n",
    "                imagesPath = os.listdir(catPath)[i]\n",
    "                imgeFullPath = os.path.join( directory_path, categoryPath, imagesPath )\n",
    "                ### 이미지 불러러오는 방법 (그레이스케일로)\n",
    "                inImg = cv2.imread( imgeFullPath, cv2.IMREAD_GRAYSCALE )\n",
    "                # inImg\n",
    "                ### 이미지 사이즈 변경 방법 (200 * 200 )\n",
    "                IMG_SIZE = 200\n",
    "                resizedImg = cv2.resize( inImg, (IMG_SIZE, IMG_SIZE) )\n",
    "                #저장\n",
    "                trainImgList.append( resizedImg )\n",
    "                trainLabelList.append( categoryPath )\n",
    "\n",
    "        except:\n",
    "            print(\"e\")\n",
    "\n",
    "    print(trainLabelList)"
   ]
  },
  {
   "cell_type": "code",
   "execution_count": 6,
   "metadata": {
    "colab": {
     "base_uri": "https://localhost:8080/"
    },
    "executionInfo": {
     "elapsed": 1365,
     "status": "ok",
     "timestamp": 1744040366004,
     "user": {
      "displayName": "방현민",
      "userId": "13982830011180183820"
     },
     "user_tz": -540
    },
    "id": "6ya40hui2wXH",
    "outputId": "0fa7e437-d6d1-4f54-869c-4d31250fc903"
   },
   "outputs": [
    {
     "name": "stdout",
     "output_type": "stream",
     "text": [
      "['행복한 표정', '행복한 표정', '행복한 표정', '행복한 표정', '행복한 표정', '행복한 표정', '행복한 표정', '행복한 표정', '행복한 표정', '행복한 표정', '행복한 표정', '행복한 표정', '행복한 표정', '행복한 표정', '행복한 표정', '행복한 표정', '행복한 표정', '행복한 표정', '행복한 표정', '행복한 표정', '행복한 표정', '행복한 표정', '행복한 표정', '행복한 표정', '행복한 표정', '행복한 표정', '행복한 표정', '행복한 표정', '행복한 표정', '행복한 표정', '화난 표정', '화난 표정', '화난 표정', '화난 표정', '화난 표정', '화난 표정', '화난 표정', '화난 표정', '화난 표정', '화난 표정', '화난 표정', '화난 표정', '화난 표정', '화난 표정', '화난 표정', '화난 표정', '화난 표정', '화난 표정', '화난 표정', '화난 표정', '화난 표정', '화난 표정', '화난 표정', '화난 표정', '화난 표정', '화난 표정', '화난 표정', '화난 표정', '화난 표정', '화난 표정']\n"
     ]
    }
   ],
   "source": [
    "Img()"
   ]
  }
 ],
 "metadata": {
  "colab": {
   "provenance": [
    {
     "file_id": "1WOJxYZqpa8RlBEvNKgcf6hefzATtK4a_",
     "timestamp": 1743983429244
    },
    {
     "file_id": "1T2mPYdQzEua-RiGvRz2JA6Ua-HlxaGtW",
     "timestamp": 1743903980204
    }
   ]
  },
  "kernelspec": {
   "display_name": "Python 3",
   "name": "python3"
  },
  "language_info": {
   "name": "python"
  }
 },
 "nbformat": 4,
 "nbformat_minor": 0
}
